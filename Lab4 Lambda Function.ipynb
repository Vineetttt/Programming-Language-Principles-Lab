{
  "nbformat": 4,
  "nbformat_minor": 0,
  "metadata": {
    "colab": {
      "provenance": []
    },
    "kernelspec": {
      "name": "python3",
      "display_name": "Python 3"
    },
    "language_info": {
      "name": "python"
    }
  },
  "cells": [
    {
      "cell_type": "markdown",
      "source": [
        "1. Write program using lambda function to display odd numbers from the given the list"
      ],
      "metadata": {
        "id": "iruOajHWB6YU"
      }
    },
    {
      "cell_type": "code",
      "source": [
        "lst = [1, 2, 3,4,5,6,7,8]\n",
        "ans = list(map(lambda x: x, filter(lambda x: x % 2 != 0, lst)))\n",
        "print(ans)"
      ],
      "metadata": {
        "colab": {
          "base_uri": "https://localhost:8080/"
        },
        "id": "STUFQGEcB60D",
        "outputId": "83fdf5a7-3d67-4445-fac0-289caf5fdfa6"
      },
      "execution_count": null,
      "outputs": [
        {
          "output_type": "stream",
          "name": "stdout",
          "text": [
            "[1, 3, 5, 7]\n"
          ]
        }
      ]
    },
    {
      "cell_type": "markdown",
      "source": [
        "2. Write program using lambda function to display addition of all numbers from the given the list"
      ],
      "metadata": {
        "id": "b0WkdWw0CBKU"
      }
    },
    {
      "cell_type": "code",
      "source": [
        "numbers = [1, 2, 3, 4, 5]\n",
        "\n",
        "total = lambda nums: sum(nums)\n",
        "print(\"The sum of the numbers in the list is:\", total(numbers))"
      ],
      "metadata": {
        "colab": {
          "base_uri": "https://localhost:8080/"
        },
        "id": "-ZEgNnCVCDDs",
        "outputId": "f8b3c2dd-35ee-4302-c780-7dd0f1d93254"
      },
      "execution_count": null,
      "outputs": [
        {
          "output_type": "stream",
          "name": "stdout",
          "text": [
            "The sum of the numbers in the list is: 15\n"
          ]
        }
      ]
    },
    {
      "cell_type": "markdown",
      "source": [
        "3. Write program using lambda function to Multiply all the elements from the given list by 5"
      ],
      "metadata": {
        "id": "WQYf11XwDDMc"
      }
    },
    {
      "cell_type": "code",
      "source": [
        "numbers = [1, 2, 3, 4, 5]\n",
        "\n",
        "multiply_by_5 = lambda nums: [num * 5 for num in nums]\n",
        "print(\"The list after multiplying all elements by 5 is:\", multiply_by_5(numbers))"
      ],
      "metadata": {
        "colab": {
          "base_uri": "https://localhost:8080/"
        },
        "id": "e6A_mHANCvO8",
        "outputId": "aefbc07c-a0c0-4a5d-fbd7-845974474af7"
      },
      "execution_count": null,
      "outputs": [
        {
          "output_type": "stream",
          "name": "stdout",
          "text": [
            "The list after multiplying all elements by 5 is: [5, 10, 15, 20, 25]\n"
          ]
        }
      ]
    },
    {
      "cell_type": "markdown",
      "source": [
        "4. Write program using lambda function to display numbers divisible by 9 from the given the list"
      ],
      "metadata": {
        "id": "Tmlb6KKtDatj"
      }
    },
    {
      "cell_type": "code",
      "source": [
        "numbers = [18, 27, 36, 45, 54, 63, 72, 81, 90]\n",
        "\n",
        "divisible_by_9 = lambda nums: list(filter(lambda num: num % 9 == 0, nums))\n",
        "print(\"The numbers divisible by 9 in the list are:\", divisible_by_9(numbers))"
      ],
      "metadata": {
        "colab": {
          "base_uri": "https://localhost:8080/"
        },
        "id": "xSTjPOi9DcJ7",
        "outputId": "7fa81e39-c06c-40f7-de3d-6756efaf404c"
      },
      "execution_count": null,
      "outputs": [
        {
          "output_type": "stream",
          "name": "stdout",
          "text": [
            "The numbers divisible by 9 in the list are: [18, 27, 36, 45, 54, 63, 72, 81, 90]\n"
          ]
        }
      ]
    },
    {
      "cell_type": "markdown",
      "source": [
        "5. Write a Python program to sort a list of tuples using Lambda"
      ],
      "metadata": {
        "id": "CKgSMNydE5ek"
      }
    },
    {
      "cell_type": "code",
      "source": [
        "subject_marks = [('English', 88), ('Science', 90), ('Maths', 97), ('Social sciences', 82)]\n",
        "print(\"Original list of tuples:\")\n",
        "print(subject_marks)\n",
        "subject_marks.sort(key = lambda x: x[1])\n",
        "print(\"\\nSorting the List of Tuples:\")\n",
        "print(subject_marks)"
      ],
      "metadata": {
        "colab": {
          "base_uri": "https://localhost:8080/"
        },
        "id": "9CgHA787EyJ0",
        "outputId": "3b80780b-df37-4caa-ded1-8b192e062706"
      },
      "execution_count": null,
      "outputs": [
        {
          "output_type": "stream",
          "name": "stdout",
          "text": [
            "Original list of tuples:\n",
            "[('English', 88), ('Science', 90), ('Maths', 97), ('Social sciences', 82)]\n",
            "\n",
            "Sorting the List of Tuples:\n",
            "[('Social sciences', 82), ('English', 88), ('Science', 90), ('Maths', 97)]\n"
          ]
        }
      ]
    },
    {
      "cell_type": "markdown",
      "source": [
        "6. Write a Python program to find the intersection of two given arrays using Lambda \n",
        "\n",
        "  Original arrays: [1, 2, 3, 5, 7, 8, 9, 10][1, 2, 4, 8, 9]"
      ],
      "metadata": {
        "id": "WS2dV5tIE8Xr"
      }
    },
    {
      "cell_type": "code",
      "source": [
        "array1 = [1, 2, 3, 5, 7, 8, 9, 10]\n",
        "array2 = [1, 2, 4, 8, 9]\n",
        "print(\"Original arrays:\")\n",
        "print(array1)\n",
        "print(array2)\n",
        "result = list(filter(lambda x: x in array1, array2)) \n",
        "print (\"\\nIntersection of the said arrays: \",result)"
      ],
      "metadata": {
        "colab": {
          "base_uri": "https://localhost:8080/"
        },
        "id": "np5fq73fE-fc",
        "outputId": "4b1c13f4-5eef-4e25-8a23-0d0bd447f561"
      },
      "execution_count": null,
      "outputs": [
        {
          "output_type": "stream",
          "name": "stdout",
          "text": [
            "Original arrays:\n",
            "[1, 2, 3, 5, 7, 8, 9, 10]\n",
            "[1, 2, 4, 8, 9]\n",
            "\n",
            "Intersection of the said arrays:  [1, 2, 8, 9]\n"
          ]
        }
      ]
    },
    {
      "cell_type": "markdown",
      "source": [
        "7. Write a Python program to count the even and odd numbers in each array of integers using Lambda.\n",
        "\n",
        "  Original arrays: [1, 2, 3, 5, 7, 8, 9, 10]"
      ],
      "metadata": {
        "id": "LRUgdUEsF3IK"
      }
    },
    {
      "cell_type": "code",
      "source": [
        "array = [1, 2, 3, 5, 7, 8, 9, 10]\n",
        "\n",
        "even_count = len(list(filter(lambda x: x % 2 == 0, array)))\n",
        "odd_count = len(array) - even_count\n",
        "\n",
        "print(\"Even numbers count:\", even_count)\n",
        "print(\"Odd numbers count:\", odd_count)"
      ],
      "metadata": {
        "colab": {
          "base_uri": "https://localhost:8080/"
        },
        "id": "xzSt9EDbF6gS",
        "outputId": "6d20dd29-48a5-4bdf-cfe0-f1b9ead623eb"
      },
      "execution_count": null,
      "outputs": [
        {
          "output_type": "stream",
          "name": "stdout",
          "text": [
            "Even numbers count: 3\n",
            "Odd numbers count: 5\n"
          ]
        }
      ]
    },
    {
      "cell_type": "markdown",
      "source": [
        "8. Write a Python program to add two given lists using map and lambda. \n",
        "  \n",
        "  Original list: [1, 2, 3] [4, 5, 6]"
      ],
      "metadata": {
        "id": "dlYXkIpMGJdc"
      }
    },
    {
      "cell_type": "code",
      "source": [
        "nums1 = [1, 2, 3]\n",
        "nums2 = [4, 5, 6]\n",
        "print(\"Original list:\")\n",
        "print(nums1)\n",
        "print(nums2)\n",
        "result = map(lambda x, y: x + y, nums1, nums2)\n",
        "print(\"\\nResult: after adding two list\")\n",
        "print(list(result))"
      ],
      "metadata": {
        "colab": {
          "base_uri": "https://localhost:8080/"
        },
        "id": "kiryznNtGLiM",
        "outputId": "4c0992af-26a6-42c9-9683-df1b64837058"
      },
      "execution_count": null,
      "outputs": [
        {
          "output_type": "stream",
          "name": "stdout",
          "text": [
            "Original list:\n",
            "[1, 2, 3]\n",
            "[4, 5, 6]\n",
            "\n",
            "Result: after adding two list\n",
            "[5, 7, 9]\n"
          ]
        }
      ]
    }
  ]
}
