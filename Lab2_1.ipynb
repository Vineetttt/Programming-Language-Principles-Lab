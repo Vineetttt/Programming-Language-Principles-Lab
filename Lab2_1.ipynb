{
  "nbformat": 4,
  "nbformat_minor": 0,
  "metadata": {
    "colab": {
      "provenance": [],
      "authorship_tag": "ABX9TyO5azTahKjWmTEjxmJsOCKX",
      "include_colab_link": true
    },
    "kernelspec": {
      "name": "python3",
      "display_name": "Python 3"
    },
    "language_info": {
      "name": "python"
    }
  },
  "cells": [
    {
      "cell_type": "markdown",
      "metadata": {
        "id": "view-in-github",
        "colab_type": "text"
      },
      "source": [
        "<a href=\"https://colab.research.google.com/github/Vineetttt/Programming-Language-Principles-Lab/blob/main/Lab2_1.ipynb\" target=\"_parent\"><img src=\"https://colab.research.google.com/assets/colab-badge.svg\" alt=\"Open In Colab\"/></a>"
      ]
    },
    {
      "cell_type": "markdown",
      "source": [
        "Q1.Create a Vehicle class without any variables and methods"
      ],
      "metadata": {
        "id": "0Qqqdw3GzWPE"
      }
    },
    {
      "cell_type": "code",
      "source": [
        "class Vehicle:\n",
        "    pass"
      ],
      "metadata": {
        "id": "U4WRPxo2zWe-"
      },
      "execution_count": null,
      "outputs": []
    },
    {
      "cell_type": "markdown",
      "source": [
        "2.Create a Class with instance attributes"
      ],
      "metadata": {
        "id": "P7KZY4GwzkDt"
      }
    },
    {
      "cell_type": "code",
      "source": [
        "class Vehicle:\n",
        "    def __init__(self, max_speed, mileage):\n",
        "        self.max_speed = max_speed\n",
        "        self.mileage = mileage\n",
        "\n",
        "model1 = Vehicle(240, 18)\n",
        "print(\"Maximum speed: \",model1.max_speed)\n",
        "print(\"Mileage: \",model1.mileage)"
      ],
      "metadata": {
        "colab": {
          "base_uri": "https://localhost:8080/"
        },
        "id": "s_UfcLzQ0B87",
        "outputId": "9e9d1126-2890-4f6b-da94-4242a1112a9f"
      },
      "execution_count": null,
      "outputs": [
        {
          "output_type": "stream",
          "name": "stdout",
          "text": [
            "Maximum speed:  240\n",
            "Mileage:  18\n"
          ]
        }
      ]
    },
    {
      "cell_type": "markdown",
      "source": [
        "3.Create a child class Bus that will inherit all of the variables and methods of the Vehicle\n",
        "class"
      ],
      "metadata": {
        "id": "5IXrNhfc0inV"
      }
    },
    {
      "cell_type": "code",
      "source": [
        "class Vehicle:\n",
        "  def __init__(self, name, max_speed, mileage):\n",
        "    self.name = name\n",
        "    self.max_speed = max_speed\n",
        "    self.mileage = mileage\n",
        "class Bus(Vehicle):\n",
        "    pass"
      ],
      "metadata": {
        "id": "JrIfEqKx09QM"
      },
      "execution_count": null,
      "outputs": []
    },
    {
      "cell_type": "markdown",
      "source": [
        "4.Create a Bus object that will inherit all of the variables and methods of the parent Vehicle\n",
        "class and display it."
      ],
      "metadata": {
        "id": "HjbJGopN1tif"
      }
    },
    {
      "cell_type": "code",
      "source": [
        "bus1 = Bus(\"School Volvo\", 180, 12)\n",
        "print(\"Bus Name:\",bus1.name)\n",
        "print(\"Maximum speed: \",bus1.max_speed)\n",
        "print(\"Mileage: \",bus1.mileage)"
      ],
      "metadata": {
        "colab": {
          "base_uri": "https://localhost:8080/"
        },
        "id": "5yeMYXWh1vqd",
        "outputId": "211922ac-c532-4763-e395-754f7b6516b4"
      },
      "execution_count": null,
      "outputs": [
        {
          "output_type": "stream",
          "name": "stdout",
          "text": [
            "Bus Name: School Volvo\n",
            "Maximum speed:  180\n",
            "Mileage:  12\n"
          ]
        }
      ]
    },
    {
      "cell_type": "markdown",
      "source": [
        "5.Create a Bus class that inherits from the Vehicle class. Give the capacity argument of\n",
        "Bus.seating_capacity() a default value of 50."
      ],
      "metadata": {
        "id": "bFDrojYz2Pkt"
      }
    },
    {
      "cell_type": "code",
      "source": [
        "class Vehicle:\n",
        "  def __init__(self, name, max_speed, mileage):\n",
        "    self.name = name\n",
        "    self.max_speed = max_speed\n",
        "    self. mileage = mileage\n",
        "  def seating_capacity(self, capacity):\n",
        "    return f\"The seating capacity of a {self.name} is {capacity} passengers\"\n",
        "\n",
        "class Bus(Vehicle):\n",
        "    def seating_capacity(self, capacity=50):\n",
        "        return super().seating_capacity(capacity=50)\n",
        "\n",
        "School_bus = Bus(\"School Volvo\", 180, 12)\n",
        "print(School_bus.seating_capacity())"
      ],
      "metadata": {
        "colab": {
          "base_uri": "https://localhost:8080/"
        },
        "id": "nswghr1V2Ume",
        "outputId": "67847e10-d46e-4926-e804-c0ed7161eea6"
      },
      "execution_count": null,
      "outputs": [
        {
          "output_type": "stream",
          "name": "stdout",
          "text": [
            "The seating capacity of a School Volvo is 50 passengers\n"
          ]
        }
      ]
    },
    {
      "cell_type": "markdown",
      "source": [
        "The super() function is used to give access to methods and properties of a parent or sibling class. "
      ],
      "metadata": {
        "id": "hP5F7Epu207s"
      }
    },
    {
      "cell_type": "markdown",
      "source": [
        "6.Create a Bus child class that inherits from the Vehicle class. The default fare charge of any\n",
        "vehicle is seating capacity * 100. If Vehicle is Bus instance, we need to add an extra 10% on\n",
        "full fare as a maintenance charge. So total fare for bus instance will become the final amount\n",
        "= total fare + 10% of the total fare."
      ],
      "metadata": {
        "id": "PvX_zGS63Paa"
      }
    },
    {
      "cell_type": "code",
      "source": [
        "class Vehicle:\n",
        "    def __init__(self, name, mileage, capacity):\n",
        "        self.name = name\n",
        "        self.mileage = mileage\n",
        "        self.capacity = capacity\n",
        "\n",
        "    def fare(self):\n",
        "        return self.capacity * 100\n",
        "\n",
        "class Bus(Vehicle):\n",
        "    def fare(self):\n",
        "        amount = super().fare()\n",
        "        amount += amount * 10 / 100\n",
        "        return amount\n",
        "\n",
        "School_bus = Bus(\"School Volvo\", 12, 50)\n",
        "print(\"Total Bus fare is:\", School_bus.fare())"
      ],
      "metadata": {
        "colab": {
          "base_uri": "https://localhost:8080/"
        },
        "id": "HoSBQKXq3LYG",
        "outputId": "eebf130b-4ae3-42eb-fd60-332393819583"
      },
      "execution_count": null,
      "outputs": [
        {
          "output_type": "stream",
          "name": "stdout",
          "text": [
            "Total Bus fare is: 5500.0\n"
          ]
        }
      ]
    },
    {
      "cell_type": "markdown",
      "source": [
        "7.Check type of an object\n",
        "Write a program to determine which class a given Bus object belongs to."
      ],
      "metadata": {
        "id": "0fjJoE4236Yt"
      }
    },
    {
      "cell_type": "code",
      "source": [
        "class Vehicle:\n",
        "    def __init__(self, name, mileage, capacity):\n",
        "        self.name = name\n",
        "        self.mileage = mileage\n",
        "        self.capacity = capacity\n",
        "\n",
        "class Bus(Vehicle):\n",
        "    pass\n",
        "\n",
        "bus1 = Bus(\"School Volvo\", 12, 50)\n",
        "print(type(bus1))"
      ],
      "metadata": {
        "colab": {
          "base_uri": "https://localhost:8080/"
        },
        "id": "05P5rBnX37G0",
        "outputId": "8883c4a9-a10f-4893-a19e-4ddd46ae7fbc"
      },
      "execution_count": null,
      "outputs": [
        {
          "output_type": "stream",
          "name": "stdout",
          "text": [
            "<class '__main__.Bus'>\n"
          ]
        }
      ]
    },
    {
      "cell_type": "markdown",
      "source": [
        "8.Determine if School_bus is also an instance of the Vehicle class"
      ],
      "metadata": {
        "id": "GDMkCMB64Kq8"
      }
    },
    {
      "cell_type": "code",
      "source": [
        "print(isinstance(bus1, Vehicle))"
      ],
      "metadata": {
        "colab": {
          "base_uri": "https://localhost:8080/"
        },
        "id": "AKs_GSyc4LOf",
        "outputId": "6ca75b09-4170-472a-ccc2-4791b4695e75"
      },
      "execution_count": null,
      "outputs": [
        {
          "output_type": "stream",
          "name": "stdout",
          "text": [
            "True\n"
          ]
        }
      ]
    },
    {
      "cell_type": "markdown",
      "source": [
        "9.Determine if School_bus is Sub class of Vehicle Class"
      ],
      "metadata": {
        "id": "ip8ucQhs4Uol"
      }
    },
    {
      "cell_type": "code",
      "source": [
        "try:\n",
        "  print(issubclass(bus1, Vehicle))\n",
        "except:\n",
        "  print(\"Not a sub class\")"
      ],
      "metadata": {
        "colab": {
          "base_uri": "https://localhost:8080/"
        },
        "id": "ghnY3wFQ4YgV",
        "outputId": "102e3921-18a6-4f8c-ed81-8e8527a9219d"
      },
      "execution_count": null,
      "outputs": [
        {
          "output_type": "stream",
          "name": "stdout",
          "text": [
            "Not a sub class\n"
          ]
        }
      ]
    },
    {
      "cell_type": "markdown",
      "source": [
        "10.Create a child class for Bus Class named Mini bus inheriting Bus class and price\n",
        "attribute and Print Price Method (Multilevel Inheritance)"
      ],
      "metadata": {
        "id": "qJAXaDX54i43"
      }
    },
    {
      "cell_type": "code",
      "source": [
        "class Vehicle:\n",
        "  def __init__(self, name, mileage, capacity):\n",
        "    self.name = name\n",
        "    self.mileage = mileage\n",
        "    self.capacity = capacity\n",
        "  def fare(self):\n",
        "    return self.capacity * 100\n",
        "\n",
        "class Bus(Vehicle):\n",
        "    def fare(self):\n",
        "        amount = super().fare()\n",
        "        amount += amount * 10 / 100\n",
        "        return amount\n",
        "\n",
        "class MiniBus(Bus):\n",
        "  def Price(self):\n",
        "    return super().fare()\n",
        "School_bus = MiniBus(\"School Volvo\", 12, 50)\n",
        "print(\"Total Bus fare is:\", School_bus.fare())"
      ],
      "metadata": {
        "colab": {
          "base_uri": "https://localhost:8080/"
        },
        "id": "hhMO4aN94jc6",
        "outputId": "a73f8163-197f-45ff-b1f5-fa9156b825e5"
      },
      "execution_count": null,
      "outputs": [
        {
          "output_type": "stream",
          "name": "stdout",
          "text": [
            "Total Bus fare is: 5500.0\n"
          ]
        }
      ]
    },
    {
      "cell_type": "markdown",
      "source": [
        "11. Create a car class inheriting Vehicle class and add type and Print attribute and display\n",
        "Type method method for the same"
      ],
      "metadata": {
        "id": "dD3dh7FD5mJu"
      }
    },
    {
      "cell_type": "code",
      "source": [
        "class Vehicle:\n",
        "  def __init__(self, name, mileage, capacity):\n",
        "    self.name = name\n",
        "    self.mileage = mileage\n",
        "    self.capacity = capacity\n",
        "  def fare(self):\n",
        "    return self.capacity * 100\n",
        "class Car(Vehicle):\n",
        "  def Print(self):\n",
        "    print(\"The car is: \",self.name)\n",
        "car1 = Car(\"School Volvo\", 12, 50)\n",
        "car1.Print()"
      ],
      "metadata": {
        "colab": {
          "base_uri": "https://localhost:8080/"
        },
        "id": "3XZmegLL5mrb",
        "outputId": "864419b4-003e-4ed0-f956-3fb28d9a3c41"
      },
      "execution_count": null,
      "outputs": [
        {
          "output_type": "stream",
          "name": "stdout",
          "text": [
            "The car is:  School Volvo\n"
          ]
        }
      ]
    }
  ]
}