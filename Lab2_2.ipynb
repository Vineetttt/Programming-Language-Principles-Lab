{
  "nbformat": 4,
  "nbformat_minor": 0,
  "metadata": {
    "colab": {
      "provenance": [],
      "authorship_tag": "ABX9TyOgvemKT7mH3JSNCRcrJ3nP",
      "include_colab_link": true
    },
    "kernelspec": {
      "name": "python3",
      "display_name": "Python 3"
    },
    "language_info": {
      "name": "python"
    }
  },
  "cells": [
    {
      "cell_type": "markdown",
      "metadata": {
        "id": "view-in-github",
        "colab_type": "text"
      },
      "source": [
        "<a href=\"https://colab.research.google.com/github/Vineetttt/Programming-Language-Principles-Lab/blob/main/Lab2_2.ipynb\" target=\"_parent\"><img src=\"https://colab.research.google.com/assets/colab-badge.svg\" alt=\"Open In Colab\"/></a>"
      ]
    },
    {
      "cell_type": "markdown",
      "source": [
        "12.Write a program in python to Implement Method Overriding considering the following "
      ],
      "metadata": {
        "id": "VL64Gxyq3Nyc"
      }
    },
    {
      "cell_type": "code",
      "source": [
        "from math import pi\n",
        "\n",
        "class Shape:\n",
        "  def __init__(self, name):\n",
        "    self.name = name\n",
        "  def area(self):\n",
        "    pass\n",
        "  def fact(self):\n",
        "    return \"I am a two-dimensional shape.\"\n",
        "  def __str__(self):\n",
        "    return self.name\n",
        "\n",
        "class Square(Shape):\n",
        "  def __init__(self, length):\n",
        "    super().__init__(\"Square\")\n",
        "    self.length = length\n",
        "  def area(self):\n",
        "    return self.length**2\n",
        "  def fact(self):\n",
        "    return \"Squares have each angle equal to 90 degrees.\"\n",
        "\n",
        "class Circle(Shape):\n",
        "  def __init__(self, radius):\n",
        "    super().__init__(\"Circle\")\n",
        "    self.radius = radius\n",
        "  def area(self):\n",
        "    return pi*self.radius**2"
      ],
      "metadata": {
        "id": "eQ6JSsgHuvJg"
      },
      "execution_count": 3,
      "outputs": []
    },
    {
      "cell_type": "code",
      "source": [
        "a = Square(4)\n",
        "b = Circle(7)\n",
        "print(b)\n",
        "print(b.fact())\n",
        "print(a.fact())\n",
        "print(b.area())"
      ],
      "metadata": {
        "colab": {
          "base_uri": "https://localhost:8080/"
        },
        "id": "fhCwaPEZ3LLk",
        "outputId": "25e31b20-43e1-48b8-d788-a068397b7a19"
      },
      "execution_count": 4,
      "outputs": [
        {
          "output_type": "stream",
          "name": "stdout",
          "text": [
            "Circle\n",
            "I am a two-dimensional shape.\n",
            "Squares have each angle equal to 90 degrees.\n",
            "153.93804002589985\n"
          ]
        }
      ]
    },
    {
      "cell_type": "markdown",
      "source": [
        "13.Write  a  program  in  python  to  Implement  Method  Overriding  considering  the following classes, methods and Variables "
      ],
      "metadata": {
        "id": "LZpnOSN82efk"
      }
    },
    {
      "cell_type": "code",
      "source": [
        "class Vehicle:\n",
        "    def __init__(self, name, color, price):\n",
        "        self.name = name\n",
        "        self.color = color\n",
        "        self.price = price\n",
        "\n",
        "    def show(self):\n",
        "        print('Details:', self.name, self.color, self.price)\n",
        "\n",
        "    def max_speed(self):\n",
        "        print('Vehicle max speed is 150')\n",
        "\n",
        "    def change_gear(self):\n",
        "        print('Vehicle change 6 gear')\n",
        "\n",
        "\n",
        "# inherit from vehicle class\n",
        "class Car(Vehicle):\n",
        "    def max_speed(self):\n",
        "        print('Car max speed is 240')\n",
        "\n",
        "    def change_gear(self):\n",
        "        print('Car change 7 gear')"
      ],
      "metadata": {
        "id": "UhCW6Fb5uvMA"
      },
      "execution_count": 5,
      "outputs": []
    },
    {
      "cell_type": "code",
      "source": [
        "# Car Object\n",
        "car = Car('Car x1', 'Red', 20000)\n",
        "car.show()\n",
        "# calls methods from Car class\n",
        "car.max_speed()\n",
        "car.change_gear()\n",
        "\n",
        "# Vehicle Object\n",
        "vehicle = Vehicle('Truck x1', 'white', 75000)\n",
        "vehicle.show()\n",
        "# calls method from a Vehicle class\n",
        "vehicle.max_speed()\n",
        "vehicle.change_gear()"
      ],
      "metadata": {
        "colab": {
          "base_uri": "https://localhost:8080/"
        },
        "id": "Nvu7D7_xuvOf",
        "outputId": "c6c01466-5c5f-4261-9a14-0a1d3999075b"
      },
      "execution_count": 6,
      "outputs": [
        {
          "output_type": "stream",
          "name": "stdout",
          "text": [
            "Details: Car x1 Red 20000\n",
            "Car max speed is 240\n",
            "Car change 7 gear\n",
            "Details: Truck x1 white 75000\n",
            "Vehicle max speed is 150\n",
            "Vehicle change 6 gear\n"
          ]
        }
      ]
    },
    {
      "cell_type": "markdown",
      "source": [
        "14.Write a program in python to demonstrate how method overloading is achieved. Create a function to perform addition operation. If 2 no’sare given it should perform addition of 2 no’sotherwise it should add 3 nos."
      ],
      "metadata": {
        "id": "rExnpJ80uvXo"
      }
    },
    {
      "cell_type": "code",
      "source": [
        "def add_numbers(num1, num2, num3=None):\n",
        "    if num3 is None:\n",
        "        return num1 + num2\n",
        "    else:\n",
        "        return num1 + num2 + num3"
      ],
      "metadata": {
        "id": "lL02hjP4uv3g"
      },
      "execution_count": 7,
      "outputs": []
    },
    {
      "cell_type": "code",
      "source": [
        "result1 = add_numbers(2, 3) \n",
        "result2 = add_numbers(2, 3, 4) \n",
        "print(result1)\n",
        "print(result2)"
      ],
      "metadata": {
        "colab": {
          "base_uri": "https://localhost:8080/"
        },
        "id": "gX-0eqSLvtV4",
        "outputId": "8a17a0d0-24da-4aab-f014-5c48fa1ef7b6"
      },
      "execution_count": 8,
      "outputs": [
        {
          "output_type": "stream",
          "name": "stdout",
          "text": [
            "5\n",
            "9\n"
          ]
        }
      ]
    },
    {
      "cell_type": "markdown",
      "source": [
        "15. Write a program in python to perform method overloading. Create a function to calculate area of given shape. If 1 side is given calculate area of square, if Length and breadth is given calculate the area of Rectangle."
      ],
      "metadata": {
        "id": "akFKKHk_w3Nt"
      }
    },
    {
      "cell_type": "code",
      "source": [
        "def calculate_area(side=None, length=None, breadth=None):\n",
        "    if side is not None and length is None and breadth is None:\n",
        "        return side ** 2\n",
        "    elif side is None and length is not None and breadth is not None:\n",
        "        return length * breadth\n",
        "    else:\n",
        "        raise ValueError(\"Invalid arguments\")"
      ],
      "metadata": {
        "id": "W2CfPqMuw1XV"
      },
      "execution_count": 9,
      "outputs": []
    },
    {
      "cell_type": "code",
      "source": [
        "print(calculate_area(side=5))\n",
        "print(calculate_area(length=3, breadth=4)) "
      ],
      "metadata": {
        "colab": {
          "base_uri": "https://localhost:8080/"
        },
        "id": "8vMhyVE5w4Mt",
        "outputId": "360be089-08f8-4f9a-c58e-02ec4849b518"
      },
      "execution_count": 10,
      "outputs": [
        {
          "output_type": "stream",
          "name": "stdout",
          "text": [
            "25\n",
            "12\n"
          ]
        }
      ]
    },
    {
      "cell_type": "markdown",
      "source": [
        "16. Write a program to Implement Abstract class using Following problem statement\n",
        "The Employee class represents an employee, either full-time or hourly. the Employee class should be an abstract class because there’re only full-time employees and hourly employees, no general employees exist.\n",
        "The Employee class should have a property that returns the full name of an employee.\tIn addition, it should have a method that calculates salary. The method for calculating salary should be an abstract method.\n",
        "The Full_time_Employee class inherits from the Employee class. It’ll provide the implementation for the get_salary () method.\n",
        "Since full-time employees get fixed salaries, you can initialize the salary in the constructor of the class.\n",
        "The HourlyEmployee also inherits from the Employee class.\n",
        "However, hourly employees get paid by working hours and their rates. Therefore, you can initialize this information in the constructor of the class.\n",
        "To calculate the salary for the hourly employees, you multiply the working hours and rates."
      ],
      "metadata": {
        "id": "zi0MRdcs9Zys"
      }
    },
    {
      "cell_type": "code",
      "source": [
        "from abc import ABC, abstractmethod\n",
        "\n",
        "class Employee(ABC):\n",
        "    def __init__(self, first_name, last_name):\n",
        "        self.first_name = first_name\n",
        "        self.last_name = last_name\n",
        "\n",
        "    @property\n",
        "    def full_name(self):\n",
        "        return f\"{self.first_name} {self.last_name}\"\n",
        "\n",
        "    @abstractmethod\n",
        "    def get_salary(self):\n",
        "        pass\n",
        "class FulltimeEmployee(Employee):\n",
        "    def __init__(self, first_name, last_name, salary):\n",
        "        super().__init__(first_name, last_name)\n",
        "        self.salary = salary\n",
        "\n",
        "    def get_salary(self):\n",
        "        return self.salary\n",
        "class HourlyEmployee(Employee):\n",
        "    def __init__(self, first_name, last_name, worked_hours, rate):\n",
        "        super().__init__(first_name, last_name)\n",
        "        self.worked_hours = worked_hours\n",
        "        self.rate = rate\n",
        "\n",
        "    def get_salary(self):\n",
        "        return self.worked_hours * self.rate\n",
        "class Payroll:\n",
        "    def __init__(self):\n",
        "        self.employee_list = []\n",
        "\n",
        "    def add(self, employee):\n",
        "        self.employee_list.append(employee)\n",
        "\n",
        "    def print(self):\n",
        "        for e in self.employee_list:\n",
        "            print(f\"{e.full_name} \\t ${e.get_salary()}\")\n"
      ],
      "metadata": {
        "id": "F8sTf--Z5feZ"
      },
      "execution_count": 11,
      "outputs": []
    },
    {
      "cell_type": "code",
      "source": [
        "payroll = Payroll()\n",
        "\n",
        "payroll.add(FulltimeEmployee('John', 'Doe', 6000))\n",
        "payroll.add(FulltimeEmployee('Jane', 'Doe', 6500))\n",
        "payroll.add(HourlyEmployee('Jenifer', 'Smith', 200, 50))\n",
        "payroll.add(HourlyEmployee('David', 'Wilson', 150, 100))\n",
        "payroll.add(HourlyEmployee('Kevin', 'Miller', 100, 150))\n",
        "\n",
        "payroll.print()"
      ],
      "metadata": {
        "colab": {
          "base_uri": "https://localhost:8080/"
        },
        "id": "bwgrV6OU5vTP",
        "outputId": "f01b2de4-0e6d-4b9c-9fe4-5a2c3e7a1fee"
      },
      "execution_count": 12,
      "outputs": [
        {
          "output_type": "stream",
          "name": "stdout",
          "text": [
            "John Doe \t $6000\n",
            "Jane Doe \t $6500\n",
            "Jenifer Smith \t $10000\n",
            "David Wilson \t $15000\n",
            "Kevin Miller \t $15000\n"
          ]
        }
      ]
    },
    {
      "cell_type": "markdown",
      "source": [
        "17. Write a Python Program to overload + operator to add Point (X1, Y1) and Point (X2, Y2)"
      ],
      "metadata": {
        "id": "vzpLL1PHzkHL"
      }
    },
    {
      "cell_type": "code",
      "source": [
        "class Point:\n",
        "    def __init__(self, x, y):\n",
        "        self.x = x\n",
        "        self.y = y\n",
        "\n",
        "    def __str__(self):\n",
        "        return f\"({self.x}, {self.y})\"\n",
        "\n",
        "    def __add__(self, other):\n",
        "        x_sum = self.x + other.x\n",
        "        y_sum = self.y + other.y\n",
        "        return Point(x_sum, y_sum)"
      ],
      "metadata": {
        "id": "uH6o4iMUzkMj"
      },
      "execution_count": 13,
      "outputs": []
    },
    {
      "cell_type": "code",
      "source": [
        "p1 = Point(2, 3)\n",
        "p2 = Point(5, 7)\n",
        "p3 = p1 + p2\n",
        "print(p3)"
      ],
      "metadata": {
        "colab": {
          "base_uri": "https://localhost:8080/"
        },
        "id": "_5vApEv-zk9z",
        "outputId": "8057f49f-2652-4f5c-93ae-05b8e190336a"
      },
      "execution_count": 14,
      "outputs": [
        {
          "output_type": "stream",
          "name": "stdout",
          "text": [
            "(7, 10)\n"
          ]
        }
      ]
    },
    {
      "cell_type": "markdown",
      "source": [
        "18. Write a Python Program to perform division of Two Numbers, take both the nos from users from user, use TRY, EXCEPT and FINALLY block to raise an Exception when Diving Number by Zero."
      ],
      "metadata": {
        "id": "q9w5kPLE9jqT"
      }
    },
    {
      "cell_type": "code",
      "source": [
        "def input_numbers():\n",
        "    a = float(input(\"Enter first number:\"))\n",
        "    b = float(input(\"Enter second number:\"))\n",
        "    return a, b\n",
        "x, y = input_numbers()\n",
        "try:\n",
        "    print(f\"{x} / {y} is {x/y}\")\n",
        "\n",
        "except ZeroDivisionError:\n",
        "\n",
        "    print(\"Cannot divide by zero\")"
      ],
      "metadata": {
        "colab": {
          "base_uri": "https://localhost:8080/"
        },
        "id": "V0bABiUG6mKO",
        "outputId": "747c7476-d818-4a89-d146-3a6a3c1f7f2d"
      },
      "execution_count": 18,
      "outputs": [
        {
          "output_type": "stream",
          "name": "stdout",
          "text": [
            "Enter first number:5\n",
            "Enter second number:0\n",
            "Cannot divide by zero\n"
          ]
        }
      ]
    }
  ]
}