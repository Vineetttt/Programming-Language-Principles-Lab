{
  "nbformat": 4,
  "nbformat_minor": 0,
  "metadata": {
    "colab": {
      "provenance": []
    },
    "kernelspec": {
      "name": "python3",
      "display_name": "Python 3"
    },
    "language_info": {
      "name": "python"
    }
  },
  "cells": [
    {
      "cell_type": "markdown",
      "source": [
        "Write a program in Python to Implement multithreading. Create two threads first thread will display even no’s from 1to 50 and Second trade will display odd no from 1 to 50."
      ],
      "metadata": {
        "id": "WlLxa83Yx1iF"
      }
    },
    {
      "cell_type": "code",
      "source": [
        "import threading \n",
        "def print_even():\n",
        "  for i in range(2,51,2):\n",
        "    print(i,end=' ')\n",
        "def print_odd():\n",
        "  for i in range(1,50,2):\n",
        "    print(i,end=' ')\n",
        "\n",
        "t1 = threading.Thread(target=print_even)\n",
        "t2 = threading.Thread(target=print_odd)\n",
        "\n",
        "t1.start()\n",
        "t2.start()\n",
        "\n",
        "t1.join()\n",
        "t2.join()"
      ],
      "metadata": {
        "colab": {
          "base_uri": "https://localhost:8080/"
        },
        "id": "hzlexcCMxzVR",
        "outputId": "4a102f38-39b5-478d-a4b0-60c562343bbb"
      },
      "execution_count": 4,
      "outputs": [
        {
          "output_type": "stream",
          "name": "stdout",
          "text": [
            "2 4 6 8 10 12 141 3 5 7 9 11 13 15 17 19 21 23 25 27 29 31 33 35 37 39 41 43 45 47 49  16 18 20 22 24 26 28 30 32 34 36 38 40 42 44 46 48 50 "
          ]
        }
      ]
    },
    {
      "cell_type": "markdown",
      "source": [
        "Write a program in python to implement multithreading to create 3 threads 1 to display digits 1 to 26 ,1 to display a to z and 1 to display A to Z."
      ],
      "metadata": {
        "id": "84PJDN8IykgK"
      }
    },
    {
      "cell_type": "code",
      "source": [
        "import threading\n",
        "def print_digits():\n",
        "  for i in range(1,27):\n",
        "    print(i,end=' ')\n",
        "def print_lowercase():\n",
        "  for i in range(ord('a'),ord('z')+1):\n",
        "    print(chr(i),end=' ')\n",
        "def print_uppercase():\n",
        "  for i in range(ord('A'),ord('Z')+1):\n",
        "    print(chr(i),end=' ')\n",
        "\n",
        "t1 = threading.Thread(target=print_digits)\n",
        "t2 = threading.Thread(target=print_lowercase)\n",
        "t3 = threading.Thread(target=print_uppercase)\n",
        "\n",
        "t1.start()\n",
        "t2.start()\n",
        "t3.start()\n",
        "\n",
        "t1.join()\n",
        "t2.join()\n",
        "t3.join()"
      ],
      "metadata": {
        "colab": {
          "base_uri": "https://localhost:8080/"
        },
        "id": "0Ctdc_-mx4hn",
        "outputId": "d6a1d3ec-d4a6-4f09-9af5-f0dfb086494a"
      },
      "execution_count": 8,
      "outputs": [
        {
          "output_type": "stream",
          "name": "stdout",
          "text": [
            "1 2 3 4 5 6 7 8 9 10 11 12 13 14 15 16 17 18 19 20 21 22 23 24 25 26 a b c d e f g h i j k l m n o p q r s t u v w x y z A B C D E F G H I J K L M N O P Q R S T U V W X Y Z "
          ]
        }
      ]
    },
    {
      "cell_type": "markdown",
      "source": [
        "Write a program in Python to Implement multithreading. Create two threads first thread will display square of no’s from 1to 20 and Second trade will display cube of no from 1 to 20"
      ],
      "metadata": {
        "id": "6xB2HkquzOEx"
      }
    },
    {
      "cell_type": "code",
      "source": [
        "import threading \n",
        "def print_square():\n",
        "  for i in range(1,21):\n",
        "    print(f\"Square of {i} : {i*i}\")\n",
        "def print_cube():\n",
        "  for i in range(1,21):\n",
        "    print(f\"Cube of {i} : {i*i*i}\")\n",
        "\n",
        "t1 = threading.Thread(target=print_square)\n",
        "t2 = threading.Thread(target=print_cube)\n",
        "\n",
        "t1.start()\n",
        "t2.start()\n",
        "\n",
        "t1.join()\n",
        "t2.join()"
      ],
      "metadata": {
        "colab": {
          "base_uri": "https://localhost:8080/"
        },
        "id": "QkTrLXsnyjxr",
        "outputId": "ef0ea903-415c-4211-8493-7ebb8ba3022f"
      },
      "execution_count": 10,
      "outputs": [
        {
          "output_type": "stream",
          "name": "stdout",
          "text": [
            "Square of 1 : 1\n",
            "Square of 2 : 4\n",
            "Square of 3 : 9\n",
            "Square of 4 : 16\n",
            "Square of 5 : 25\n",
            "Square of 6 : 36\n",
            "Square of 7 : 49\n",
            "Square of 8 : 64\n",
            "Square of 9 : 81\n",
            "Square of 10 : 100\n",
            "Square of 11 : 121\n",
            "Square of 12 : 144\n",
            "Square of 13 : 169\n",
            "Square of 14 : 196\n",
            "Square of 15 : 225\n",
            "Square of 16 : 256\n",
            "Square of 17 : 289\n",
            "Square of 18 : 324\n",
            "Square of 19 : 361\n",
            "Square of 20 : 400\n",
            "Cube of 1 : 1\n",
            "Cube of 2 : 8\n",
            "Cube of 3 : 27\n",
            "Cube of 4 : 64\n",
            "Cube of 5 : 125\n",
            "Cube of 6 : 216\n",
            "Cube of 7 : 343\n",
            "Cube of 8 : 512\n",
            "Cube of 9 : 729\n",
            "Cube of 10 : 1000\n",
            "Cube of 11 : 1331\n",
            "Cube of 12 : 1728\n",
            "Cube of 13 : 2197\n",
            "Cube of 14 : 2744\n",
            "Cube of 15 : 3375\n",
            "Cube of 16 : 4096\n",
            "Cube of 17 : 4913\n",
            "Cube of 18 : 5832\n",
            "Cube of 19 : 6859\n",
            "Cube of 20 : 8000\n"
          ]
        }
      ]
    }
  ]
}
